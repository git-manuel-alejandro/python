{
 "cells": [
  {
   "cell_type": "code",
   "execution_count": 15,
   "id": "b18a7892",
   "metadata": {},
   "outputs": [
    {
     "name": "stdout",
     "output_type": "stream",
     "text": [
      "Datos lista :  [10]\n"
     ]
    }
   ],
   "source": [
    "# Filtrando una lista\n",
    "# Escribe una función que reciba como argumento una lista de números ( datos )\n",
    "# y un número ( num ), y que retorne\n",
    "# una lista que contenga sólo los números de datos que son mayores a num .\n",
    "\n",
    "datos = [1,2,3,4,5,6,7,8,9,10]\n",
    "num = 9\n",
    "lista = []\n",
    "\n",
    "def funcion(datos, num):\n",
    "    for i in datos:\n",
    "        if i > num:\n",
    "            lista.append(i)\n",
    "    print(\"Datos lista : \", lista)\n",
    "    \n",
    "funcion(datos, num)"
   ]
  },
  {
   "cell_type": "code",
   "execution_count": 109,
   "id": "affa2c79",
   "metadata": {},
   "outputs": [
    {
     "name": "stdout",
     "output_type": "stream",
     "text": [
      "Ingrese un número : 100\n",
      "Valor de x :  False\n",
      "Numeros primos entre cero y  100  :  [2, 3, 5, 7, 11, 13, 17, 19, 23, 29, 31, 37, 41, 43, 47, 53, 59, 61, 67, 71, 73, 79, 83, 89, 97]\n"
     ]
    }
   ],
   "source": [
    "# 2 Números primos \n",
    "# Verificar si un número es primo\n",
    "# Números primos desde 0 hasta n\n",
    "\n",
    "n = int(input(\"Ingrese un número : \"))\n",
    "num = n\n",
    "primos = []\n",
    "\n",
    "def es_primo(n):\n",
    "    for i in range(2, n):\n",
    "        if n % i == 0:\n",
    "            return False\n",
    "        else:\n",
    "            return True     \n",
    "        \n",
    "def cuenta_primos(num):\n",
    "    for i in range(2, num + 1):\n",
    "        contador = 0\n",
    "        \n",
    "        for j in range(1, num + 1):\n",
    "            if i % j == 0:                \n",
    "                contador = contador + 1\n",
    "        if contador == 2:\n",
    "            primos.append(i)\n",
    "        \n",
    "x = es_primo(n)\n",
    "cuenta_primos(num)\n",
    "\n",
    "print(\"Valor de x : \", x)\n",
    "print(\"Numeros primos entre cero y \", n , \" : \", primos)\n",
    "\n",
    "    "
   ]
  },
  {
   "cell_type": "code",
   "execution_count": 43,
   "id": "bf651f08",
   "metadata": {},
   "outputs": [
    {
     "name": "stdout",
     "output_type": "stream",
     "text": [
      "Palabras no repetidas :  56\n"
     ]
    }
   ],
   "source": [
    "#3.- Palabras únicas:\n",
    "string = \"\"\"\n",
    "Puck ve a Nick Bottom y los otros jugadores ensayando en el bosque,\n",
    "y convierte la cabeza de Nick Bottom en cabeza de burro, asustando a los otros jugadores.\n",
    "Titania se despierta con la poción en sus ojos y instantáneamente se enamora del Bottom de cabeza de burro.\n",
    "Oberon toma su changeling y arregla Puck para invertir la poción y convencer a todo el mundo que sólo estaban soñando.\n",
    "Demetrius ama a Helena ahora, así que Hermia es libre de casarse con Lysander.\n",
    "El rey Theseus decide que todas las parejas deben casarse.\n",
    "Puck termina la obra sugiriendo a la audiencia que la obra pudo haber sido un sueño.\n",
    "\"\"\"\n",
    "\n",
    "# disallowed_characters = \"._!,\"\n",
    "# for i in disallowed_characters:\n",
    "#     string = string.replace(i, \"\")\n",
    "string = string.split()\n",
    "\n",
    "cuenta = {}\n",
    "\n",
    "for i in string:\n",
    "    if i in cuenta:\n",
    "        cuenta[i] +=1\n",
    "    else:\n",
    "        cuenta[i] = 1\n",
    "        \n",
    "# print(cuenta)\n",
    "\n",
    "contador = 0\n",
    "for i in cuenta:\n",
    "    if cuenta[i] == 1:\n",
    "        contador = contador + 1\n",
    "\n",
    "print(\"Palabras no repetidas : \", contador)\n",
    "\n",
    "\n",
    "\n"
   ]
  },
  {
   "cell_type": "code",
   "execution_count": 115,
   "id": "b736617f",
   "metadata": {},
   "outputs": [
    {
     "name": "stdout",
     "output_type": "stream",
     "text": [
      "Los tres mejores alumnos son  Bob con un :  8.25\n",
      "Los tres mejores alumnos son  Gerardo con un :  8.0\n",
      "Los tres mejores alumnos son  Homero con un :  7.5\n"
     ]
    }
   ],
   "source": [
    "notas = [\n",
    "['Alberto', 6, 7, 5, 8],\n",
    "['Bob', 8, 9, 9, 7],\n",
    "['Carlos', 4, 6, 5, 5],\n",
    "['Daniel', 3, 6, 5, 7],\n",
    "['Eduardo', 5, 7, 3, 8],\n",
    "['Felipe', 2, 3, 6, 4],\n",
    "['Gerardo', 8, 9, 7, 8],\n",
    "['Homero', 6, 7, 8, 9]\n",
    "]\n",
    "\n",
    "lista = []\n",
    "for i in notas:\n",
    "    x = (sum(i[1:])/len(i[1:])) , i[0]\n",
    "    lista.append(x)\n",
    "lista.sort(reverse=True)\n",
    "\n",
    "for i in range(len(lista)):\n",
    "    if i <= 2:\n",
    "        print(\"Los tres mejores alumnos son \" , lista[i][1] , \"con un : \" , lista[i][0])\n",
    "\n",
    "    \n",
    "    "
   ]
  },
  {
   "cell_type": "code",
   "execution_count": null,
   "id": "85439c22",
   "metadata": {},
   "outputs": [],
   "source": []
  }
 ],
 "metadata": {
  "kernelspec": {
   "display_name": "Python 3",
   "language": "python",
   "name": "python3"
  },
  "language_info": {
   "codemirror_mode": {
    "name": "ipython",
    "version": 3
   },
   "file_extension": ".py",
   "mimetype": "text/x-python",
   "name": "python",
   "nbconvert_exporter": "python",
   "pygments_lexer": "ipython3",
   "version": "3.8.8"
  }
 },
 "nbformat": 4,
 "nbformat_minor": 5
}
