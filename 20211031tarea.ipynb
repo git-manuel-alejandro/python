{
 "cells": [
  {
   "cell_type": "markdown",
   "id": "8bfaf68d",
   "metadata": {},
   "source": [
    "# Ejercicio 1\n",
    "Escribe un programa en el que el usuario ingrese un número entero. Si el número es par, muestra en pantalla la mitad del número. Si el número es impar, muestra en pantalla el doble del número."
   ]
  },
  {
   "cell_type": "code",
   "execution_count": 1,
   "id": "7cefed25",
   "metadata": {},
   "outputs": [
    {
     "name": "stdout",
     "output_type": "stream",
     "text": [
      "Ingrese un número : 13\n",
      "Número impar, resultado  26\n"
     ]
    }
   ],
   "source": [
    "#Solución Ejercicio 1\n",
    "numero = int(input(\"Ingrese un número : \"))\n",
    "\n",
    "if numero % 2 == 0:\n",
    "    print(\"Número par, resultado \", numero/2)\n",
    "else:\n",
    "    print(\"Número impar, resultado \", numero*2)"
   ]
  },
  {
   "cell_type": "code",
   "execution_count": null,
   "id": "8361aec3",
   "metadata": {},
   "outputs": [
    {
     "name": "stdout",
     "output_type": "stream",
     "text": [
      "Ingrese su intención (si/no):si\n"
     ]
    }
   ],
   "source": [
    "#Solución Ejercicio 2\n",
    "respuesta = input(\"Ingrese su intención (si/no):\")\n",
    "numero = 0\n",
    "lista = []\n",
    "suma = 0\n",
    "\n",
    "while respuesta.lower() == \"si\":    \n",
    "    numero = int(input(\"Ingrese un número : \"))\n",
    "    lista.append(numero)    \n",
    "    respuesta = input(\"Ingrese su intención (si/no):\")\n",
    "    \n",
    "    for i in lista:\n",
    "        suma = i + suma\n",
    "\n",
    "    resultado = suma/len(lista)\n",
    "print(\"Promedio de números ingresados : \" , resultado)\n",
    "\n",
    "    "
   ]
  },
  {
   "cell_type": "code",
   "execution_count": null,
   "id": "0379abfd",
   "metadata": {},
   "outputs": [
    {
     "name": "stdout",
     "output_type": "stream",
     "text": [
      "Ingrese nombre de usuario: manuel\n",
      "Ingrese contraseña: a\n",
      "Datos incorrectos\n",
      "Ingrese nombre de usuario: asd\n",
      "Ingrese contraseña: as\n",
      "Datos incorrectos\n",
      "Ingrese nombre de usuario: asd\n",
      "Ingrese contraseña: asd\n",
      "Datos incorrectos\n",
      "Ingrese nombre de usuario: asds\n",
      "Ingrese contraseña: asds\n",
      "Datos incorrectos\n"
     ]
    }
   ],
   "source": [
    "#Solución Ejercicio \n",
    "usuario_correcto  = \"manuel\"\n",
    "contrasena_correcta = \"1234\"\n",
    "estado = True\n",
    "\n",
    "while estado == True:\n",
    "    usuario = input(\"Ingrese nombre de usuario: \")\n",
    "    password = input(\"Ingrese contraseña: \")\n",
    "    \n",
    "    if usuario_correcto == usuario and contrasena_correcta == password:\n",
    "        estado = False\n",
    "        print(\"Bienvenido\")\n",
    "    else:\n",
    "        estado = True\n",
    "        print(\"Datos incorrectos\")\n",
    "        \n",
    "    \n",
    "    \n",
    "    \n"
   ]
  },
  {
   "cell_type": "code",
   "execution_count": null,
   "id": "dfa9d124",
   "metadata": {},
   "outputs": [],
   "source": []
  },
  {
   "cell_type": "code",
   "execution_count": null,
   "id": "8a85ed66",
   "metadata": {},
   "outputs": [],
   "source": []
  }
 ],
 "metadata": {
  "kernelspec": {
   "display_name": "Python 3",
   "language": "python",
   "name": "python3"
  },
  "language_info": {
   "codemirror_mode": {
    "name": "ipython",
    "version": 3
   },
   "file_extension": ".py",
   "mimetype": "text/x-python",
   "name": "python",
   "nbconvert_exporter": "python",
   "pygments_lexer": "ipython3",
   "version": "3.8.8"
  }
 },
 "nbformat": 4,
 "nbformat_minor": 5
}
