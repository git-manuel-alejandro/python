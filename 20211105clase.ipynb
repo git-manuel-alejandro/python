{
 "cells": [
  {
   "cell_type": "code",
   "execution_count": 4,
   "id": "7de58f20",
   "metadata": {},
   "outputs": [
    {
     "name": "stdout",
     "output_type": "stream",
     "text": [
      "hola el valor de contador es :  0\n",
      "hola el valor de contador es :  1\n",
      "hola el valor de contador es :  2\n",
      "hola el valor de contador es :  3\n",
      "hola el valor de contador es :  4\n",
      "hola el valor de contador es :  5\n",
      "hola el valor de contador es :  6\n",
      "hola el valor de contador es :  7\n",
      "hola el valor de contador es :  8\n",
      "hola el valor de contador es :  9\n",
      "hola el valor de contador es :  10\n"
     ]
    }
   ],
   "source": [
    "contador = 0\n",
    "while contador <= 10:\n",
    "    print(\"hola el valor de contador es : \", contador)\n",
    "    contador = contador + 1"
   ]
  },
  {
   "cell_type": "code",
   "execution_count": 6,
   "id": "e1793dbd",
   "metadata": {},
   "outputs": [
    {
     "name": "stdout",
     "output_type": "stream",
     "text": [
      "verde\n",
      "amarillo\n",
      "rojo\n"
     ]
    }
   ],
   "source": [
    "colores = [\"verde\", \"amarillo\", \"rojo\"]\n",
    "for i in colores:\n",
    "    print(i)"
   ]
  },
  {
   "cell_type": "code",
   "execution_count": 11,
   "id": "9a8e00c1",
   "metadata": {},
   "outputs": [
    {
     "name": "stdout",
     "output_type": "stream",
     "text": [
      "3\n",
      "<class 'list'>\n",
      "verde\n",
      "verde\n",
      "verde\n"
     ]
    }
   ],
   "source": [
    "colores = [\"verde\", \"amarillo\", \"rojo\"]\n",
    "print(len(colores))\n",
    "print(type(colores))\n",
    "for i in colores:\n",
    "    print(colores[0])"
   ]
  },
  {
   "cell_type": "code",
   "execution_count": 23,
   "id": "d138058c",
   "metadata": {},
   "outputs": [
    {
     "name": "stdout",
     "output_type": "stream",
     "text": [
      "0 verde\n",
      "1 amarillo\n",
      "2 rojo\n"
     ]
    }
   ],
   "source": [
    "colores = [\"verde\", \"amarillo\", \"rojo\"]\n",
    "\n",
    "for i in range(len(colores)):\n",
    "    print(i , colores[i])"
   ]
  },
  {
   "cell_type": "code",
   "execution_count": 13,
   "id": "1033b1ba",
   "metadata": {},
   "outputs": [
    {
     "name": "stdout",
     "output_type": "stream",
     "text": [
      "[0, 1, 2, 3, 4, 5, 6, 7, 8, 9, 10]\n"
     ]
    }
   ],
   "source": [
    "lista = []\n",
    "\n",
    "for i in range(10+1):\n",
    "    lista.append(i)\n",
    "    \n",
    "print(lista)"
   ]
  },
  {
   "cell_type": "code",
   "execution_count": 15,
   "id": "748db6f5",
   "metadata": {},
   "outputs": [
    {
     "name": "stdout",
     "output_type": "stream",
     "text": [
      "[1]\n",
      "[1, 2]\n",
      "[1, 2, 3]\n",
      "[1, 2, 3, 4]\n",
      "[1, 2, 3, 4, 5]\n",
      "[1, 2, 3, 4, 5, 6]\n",
      "[1, 2, 3, 4, 5, 6, 7]\n",
      "[1, 2, 3, 4, 5, 6, 7, 8]\n",
      "[1, 2, 3, 4, 5, 6, 7, 8, 9]\n",
      "[1, 2, 3, 4, 5, 6, 7, 8, 9, 10]\n"
     ]
    }
   ],
   "source": [
    "lista = []\n",
    "\n",
    "for i in range(1, 10+1):\n",
    "    lista.append(i)\n",
    "    print(lista)"
   ]
  },
  {
   "cell_type": "code",
   "execution_count": 20,
   "id": "12b854cb",
   "metadata": {},
   "outputs": [
    {
     "name": "stdout",
     "output_type": "stream",
     "text": [
      "[9, 8, 7, 6, 5, 4, 3, 2, 1, 0]\n"
     ]
    }
   ],
   "source": [
    "list_num = [9,8,7,6,5,4,3,2,1,0]\n",
    "list_num.sort(reverse=True)\n",
    "print(list_num)"
   ]
  },
  {
   "cell_type": "code",
   "execution_count": 32,
   "id": "5b88e192",
   "metadata": {},
   "outputs": [
    {
     "name": "stdout",
     "output_type": "stream",
     "text": [
      "[4, 25, 16, 36, 49]\n"
     ]
    }
   ],
   "source": [
    "lista_1 = [\"2\", \"5\", \"4\", \"6\" ,\"7\"]\n",
    "lista_2 = []\n",
    "\n",
    "for i in lista_1:\n",
    "    lista_2.append(int(i)**2)\n",
    "\n",
    "print(lista_2)"
   ]
  },
  {
   "cell_type": "code",
   "execution_count": 34,
   "id": "dbd80d66",
   "metadata": {},
   "outputs": [
    {
     "name": "stdout",
     "output_type": "stream",
     "text": [
      "La capital de  Inglaterra  es  Londres\n",
      "La capital de  Italia  es  Roma\n",
      "La capital de  Francia  es  Paris\n",
      "La capital de  Alemania  es  Berlin\n"
     ]
    }
   ],
   "source": [
    "paises = [\"Inglaterra\", \"Italia\", \"Francia\", \"Alemania\"]\n",
    "capitales = [\"Londres\", \"Roma\", \"Paris\", \"Berlin\"]\n",
    "\n",
    "for i in range(len(paises)):\n",
    "    print(\"La capital de \", paises[i], \" es \", capitales[i])"
   ]
  },
  {
   "cell_type": "code",
   "execution_count": 39,
   "id": "0c711ef1",
   "metadata": {},
   "outputs": [
    {
     "name": "stdout",
     "output_type": "stream",
     "text": [
      "[75, 23, 87, 35]\n"
     ]
    }
   ],
   "source": [
    "data = [75 , 24, 38, 54, 23, 87 , 35]\n",
    "lista = []\n",
    "\n",
    "for i in data:\n",
    "    if i % 2 == 1:\n",
    "        lista.append(i)\n",
    "        \n",
    "print(lista)"
   ]
  },
  {
   "cell_type": "code",
   "execution_count": 40,
   "id": "47094a44",
   "metadata": {},
   "outputs": [
    {
     "name": "stdout",
     "output_type": "stream",
     "text": [
      "t\n",
      "h\n",
      "i\n",
      "s\n",
      " \n",
      "a\n",
      " \n",
      "s\n",
      "t\n",
      "r\n",
      "i\n",
      "n\n",
      "g\n"
     ]
    }
   ],
   "source": [
    "s = \"this a string\"\n",
    "for i in s:\n",
    "    print(i)"
   ]
  },
  {
   "cell_type": "code",
   "execution_count": 42,
   "id": "2857cda2",
   "metadata": {},
   "outputs": [
    {
     "name": "stdout",
     "output_type": "stream",
     "text": [
      "0 t\n",
      "1 h\n",
      "2 i\n",
      "3 s\n",
      "4  \n",
      "5 a\n",
      "6  \n",
      "7 s\n",
      "8 t\n",
      "9 r\n",
      "10 i\n",
      "11 n\n",
      "12 g\n"
     ]
    }
   ],
   "source": [
    "s = \"this a string\"\n",
    "for i in range(len(s)):\n",
    "    print(i , s[i])\n",
    "    "
   ]
  },
  {
   "cell_type": "code",
   "execution_count": 43,
   "id": "62a19690",
   "metadata": {},
   "outputs": [
    {
     "name": "stdout",
     "output_type": "stream",
     "text": [
      "__add__\n",
      "__class__\n",
      "__contains__\n",
      "__delattr__\n",
      "__delitem__\n",
      "__dir__\n",
      "__doc__\n",
      "__eq__\n",
      "__format__\n",
      "__ge__\n",
      "__getattribute__\n",
      "__getitem__\n",
      "__gt__\n",
      "__hash__\n",
      "__iadd__\n",
      "__imul__\n",
      "__init__\n",
      "__init_subclass__\n",
      "__iter__\n",
      "__le__\n",
      "__len__\n",
      "__lt__\n",
      "__mul__\n",
      "__ne__\n",
      "__new__\n",
      "__reduce__\n",
      "__reduce_ex__\n",
      "__repr__\n",
      "__reversed__\n",
      "__rmul__\n",
      "__setattr__\n",
      "__setitem__\n",
      "__sizeof__\n",
      "__str__\n",
      "__subclasshook__\n",
      "append\n",
      "clear\n",
      "copy\n",
      "count\n",
      "extend\n",
      "index\n",
      "insert\n",
      "pop\n",
      "remove\n",
      "reverse\n",
      "sort\n"
     ]
    }
   ],
   "source": [
    "lista = [1]\n",
    "\n",
    "for i in dir(lista):\n",
    "    print(i)\n",
    "    "
   ]
  },
  {
   "cell_type": "code",
   "execution_count": 45,
   "id": "0e182cb1",
   "metadata": {},
   "outputs": [
    {
     "name": "stdout",
     "output_type": "stream",
     "text": [
      "Help on built-in function split:\n",
      "\n",
      "split(sep=None, maxsplit=-1) method of builtins.str instance\n",
      "    Return a list of the words in the string, using sep as the delimiter string.\n",
      "    \n",
      "    sep\n",
      "      The delimiter according which to split the string.\n",
      "      None (the default value) means split according to any whitespace,\n",
      "      and discard empty strings from the result.\n",
      "    maxsplit\n",
      "      Maximum number of splits to do.\n",
      "      -1 (the default value) means no limit.\n",
      "\n",
      "None\n"
     ]
    }
   ],
   "source": [
    "var = 'hola'\n",
    "\n",
    "print(help(var.split))"
   ]
  },
  {
   "cell_type": "code",
   "execution_count": 65,
   "id": "6f654aa9",
   "metadata": {},
   "outputs": [
    {
     "name": "stdout",
     "output_type": "stream",
     "text": [
      "[['Argentina'], ['Bolivia'], ['Brasil'], ['Chile'], ['Peru']]\n"
     ]
    }
   ],
   "source": [
    "data = \"\"\"\n",
    "Pais,Poblacion,PIB,Area\n",
    "Chile,21000000,34000000,53400000\n",
    "Argentina,23400000,96434234,5234248\n",
    "Peru,1000000,23452413,12345234\n",
    "Bolivia,9000000,2342525,244233\n",
    "Brasil,100000000,5243123,234234\n",
    "\"\"\"\n",
    "\n",
    "data_2 = []\n",
    "\n",
    "for linea in data.split()[1:]:\n",
    "    linea_sep = linea.split(\",\")\n",
    "    data_2.append(linea_sep)\n",
    "    \n",
    "\n",
    "paises = []    \n",
    "    \n",
    "for i in data_2:\n",
    "    paises.append(i[:1])\n",
    "\n",
    "    \n",
    "paises.sort()\n",
    "print(paises)\n",
    "\n",
    "#list_num.sort(reverse=True)"
   ]
  },
  {
   "cell_type": "code",
   "execution_count": null,
   "id": "fae51ea5",
   "metadata": {},
   "outputs": [],
   "source": []
  }
 ],
 "metadata": {
  "kernelspec": {
   "display_name": "Python 3",
   "language": "python",
   "name": "python3"
  },
  "language_info": {
   "codemirror_mode": {
    "name": "ipython",
    "version": 3
   },
   "file_extension": ".py",
   "mimetype": "text/x-python",
   "name": "python",
   "nbconvert_exporter": "python",
   "pygments_lexer": "ipython3",
   "version": "3.8.8"
  }
 },
 "nbformat": 4,
 "nbformat_minor": 5
}
